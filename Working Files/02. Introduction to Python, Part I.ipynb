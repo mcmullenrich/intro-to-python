{
 "cells": [
  {
   "cell_type": "markdown",
   "metadata": {},
   "source": [
    "# **Introduction to Python, Part I**\n",
    "---"
   ]
  },
  {
   "cell_type": "markdown",
   "metadata": {},
   "source": [
    "## **The Three Elements of Logical Operations**\n",
    "\n",
    "As we have discussed, Python is the language-like interface of a logical operation processing machine. The purpose of this class is to teach you the basics of using this interface to operate that machine.\n",
    "\n",
    "Before a logical operation can be processed, it must first be defined. This is the work of programming - writing computer code <ins>is</ins> defining logical operations to be processed. Therefore, as you learn about the elements of Python, it will be useful for you to keep in mind the elements of a logical operation.\n",
    "\n",
    "Logical operations are composed of *operands* and *operators* (with the possible addition of *grouping symbols*). Operands represent inputs subjected to transformation, and operators represent kinds of transformations. Consider:\n",
    "\n",
    "`2 + 4`\n",
    "\n",
    "This arithmetic operation (which is one kind of logical operation) begins with a value of `2`. Then, the `+` operator determines the kind of transformation (addition) which is applied to the `2`, and the `4` indicates the magnitude of the transformation.\n",
    "\n",
    "Logical operations are processed in a conventional order. Consider:\n",
    "\n",
    "`2 + 4 / 6`\n",
    "\n",
    "In this case, the conventional order of operations directs us to divide `4` by `6` before adding the result to `2`.\n",
    "\n",
    "Grouping symbols modify the order of operations. Consider:\n",
    "\n",
    "`(2 + 4) / 6`\n",
    "\n",
    "This example contains the same operands and operators as the prior example, but the parentheses change the order in which the operation is processed, producing a different result.\n",
    "\n",
    "The Python programming language allows you to define logical operations that are much more complex than these examples. However, it seems to me that every part of Python - maybe any computer programming language - aims to define an operand, an operator, or the right order of operations. I expect that keeping these three categories in mind will help you to mentally organize and remember Python's many parts.\n",
    "\n",
    "This is a relatively new idea for me and the first time I am sharing it in a class, so if you spot an exception, please let me know so that I can refine my understanding.\n",
    "\n",
    "<br>\n",
    "\n",
    "---"
   ]
  },
  {
   "cell_type": "markdown",
   "metadata": {},
   "source": [
    "## **Restoring Your Notebook**\n",
    "\n",
    "Experimenting with code will help you to become familiar with Python and its parts. It is normal to feel cautious when coding for the first time, but if you are afraid of breaking things, you will experiment less than you would without this concern. Therefore, to help you to feel more comfortable with experimentation, we have made it easy for you to save checkpoints and, if necessary, restart from scratch.\n",
    "\n",
    "To save a new checkpoint based on your current working file, click on the three bars in the top left corner of this window. Then, navigate to File > Save As. When prompted, change your file name (for example, by adding \"_v1\" to the end). Then, by clicking on the two dots under the file name, navigate to the Checkpoints folder, and then click the OK button. Finally, close your checkpoint file and reopen your working file.\n",
    "\n",
    "**Try adding your name and today's date in the cell below. Then, save a checkpoint and reopen this file.**"
   ]
  },
  {
   "cell_type": "markdown",
   "metadata": {},
   "source": [
    "| Name               | Date               |\n",
    "| :----------------: | :----------------: |\n",
    "| [Your Name]        | [Today's Date]     |"
   ]
  },
  {
   "cell_type": "markdown",
   "metadata": {},
   "source": [
    "**Now, complete the following steps:**\n",
    "1. Rearrange 3 cells in this notebook.\n",
    "2. Type gibberish in three more cells, executing each of them. \n",
    "3. Delete 3 cells. \n",
    "4. Convert 3 Code cells into Markdown cells and 3 Markdown cells into Code cells.\n",
    "\n",
    "**Finally, use your checkpoint to save over this notebook.**"
   ]
  },
  {
   "cell_type": "markdown",
   "metadata": {},
   "source": [
    "You can find a fresh copy of each notebook (ending in \"_v0\") in the Checkpoints folder. If you want to start over in a certain notebook but did not create your own checkpoint, open the corresponding v0 and save a copy in the Working Files folder.\n",
    "\n",
    "You will also find final, completed versions of each notebook (ending in \"_vF\") in the Checkpoints folder.\n",
    "\n",
    "If you accidentally delete a v0, a vF, or the whole Checkpoints folder, you can create a fresh GitHub repository from the PyFi template by going to https://github.com/zwasham/Introduction-to-Python **[UPDATE LINK]** and clicking Use this template > Create a new repository.\n",
    "\n",
    "<br>"
   ]
  },
  {
   "cell_type": "markdown",
   "metadata": {},
   "source": [
    "---"
   ]
  },
  {
   "cell_type": "markdown",
   "metadata": {},
   "source": [
    "## **Comments**\n",
    "\n",
    "In the Jupyter Notebook tutorial, you saw comments written in code cells after the `#` symbol, like this:"
   ]
  },
  {
   "cell_type": "code",
   "execution_count": null,
   "metadata": {},
   "outputs": [],
   "source": [
    "# This is a comment."
   ]
  },
  {
   "cell_type": "markdown",
   "metadata": {},
   "source": [
    "The Python interpreter will ignore all symbols to the right of the `#` symbol on a single line."
   ]
  },
  {
   "cell_type": "code",
   "execution_count": null,
   "metadata": {},
   "outputs": [],
   "source": [
    "# That means that you can write comments on their own line...\n",
    "\n",
    "print('Test')       # ...or to the right of code that you want to execute."
   ]
  },
  {
   "cell_type": "markdown",
   "metadata": {},
   "source": [
    "A common best practice is clearly explaining (\"documenting\") code using comments throughout each project (even if only to remind yourself in the future).\n",
    "\n",
    "<br>"
   ]
  },
  {
   "cell_type": "markdown",
   "metadata": {},
   "source": [
    "---"
   ]
  },
  {
   "cell_type": "markdown",
   "metadata": {},
   "source": [
    "## **Operators**\n",
    "\n",
    "#### <ins>Arithmetic Operators</ins>"
   ]
  },
  {
   "cell_type": "markdown",
   "metadata": {},
   "source": [
    "| Operator | Name            | Example           |\n",
    "| :------: | :-------------: | :---------------: |\n",
    "| +        | Addition        | 2 + 2 returns 4   |\n",
    "| -        | Subtraction     | 4 - 2 returns 2   |\n",
    "| *        | Multiplication  | 2 * 3 returns 6   |\n",
    "| /        | Division        | 7 / 2 returns 3.5 |\n",
    "| //       | Floor Division  | 7 // 2 returns 3  |\n",
    "| %        | Modulus         | 7 % 2 returns 1   |\n",
    "| **       | Exponentiation  | 3 ** 3 returns 27 |"
   ]
  },
  {
   "cell_type": "markdown",
   "metadata": {},
   "source": [
    "Floor division and modulus might be new for you. Note that, unlike Excel, Python uses `**` as the symbol for exponentiation."
   ]
  },
  {
   "cell_type": "code",
   "execution_count": null,
   "metadata": {},
   "outputs": [],
   "source": [
    "# Try for yourself here.\n",
    "\n",
    "2 + 2                   # Syntactically, this is called an expression statement."
   ]
  },
  {
   "cell_type": "markdown",
   "metadata": {},
   "source": [
    "Python evaluates arithmetic expressions according to the conventional order of operations."
   ]
  },
  {
   "cell_type": "code",
   "execution_count": null,
   "metadata": {},
   "outputs": [],
   "source": [
    "18 - 3**(1 + 1) * 2"
   ]
  },
  {
   "cell_type": "markdown",
   "metadata": {},
   "source": [
    "If you execute multiple calculations in a single cell, only the result of the last line will appear as an output."
   ]
  },
  {
   "cell_type": "code",
   "execution_count": null,
   "metadata": {},
   "outputs": [],
   "source": [
    "1 + 1\n",
    "2 + 2"
   ]
  },
  {
   "cell_type": "markdown",
   "metadata": {},
   "source": [
    "You can use the `print()` function to explicitly command Python to display the result of any expression."
   ]
  },
  {
   "cell_type": "code",
   "execution_count": null,
   "metadata": {},
   "outputs": [],
   "source": [
    "print(1 + 1)\n",
    "print(2 + 2)    # The result of this expression will appear with or without the print function."
   ]
  },
  {
   "cell_type": "markdown",
   "metadata": {},
   "source": [
    "<br>\n",
    "\n",
    "#### <ins>Comparison Operators</ins>\n",
    "\n",
    "| Operator  | Name                     | Example              |\n",
    "| :-------: | :----------------------: | :------------------: |\n",
    "| ==        | Equal to                 | 2 == 2 returns True  |\n",
    "| !=        | Not equal to             | 4 != 2 returns True  |\n",
    "| >         | Greater than             | 2 > 3 returns False  |\n",
    "| >=        | Greater than or equal to | 4 >= 2 returns True  |\n",
    "| <         | Less than                | 7 < 2 returns False  |\n",
    "| <=        | Less than or equal to    | 8 <= 8 returns True  |"
   ]
  },
  {
   "cell_type": "markdown",
   "metadata": {},
   "source": [
    "Except for `==` and `!=`, these symbols are the same as the comparison operators used in Excel."
   ]
  },
  {
   "cell_type": "code",
   "execution_count": null,
   "metadata": {},
   "outputs": [],
   "source": [
    "print(10 == 100)\n",
    "print(10 != 100)\n",
    "print(10 > 100)\n",
    "print(10 <= 100)"
   ]
  },
  {
   "cell_type": "markdown",
   "metadata": {},
   "source": [
    "You can use comparison operators to compare the results of arithmetic expressions. \n",
    "\n",
    "Python always evaluates arithmetic expressions before comparison operations."
   ]
  },
  {
   "cell_type": "code",
   "execution_count": null,
   "metadata": {},
   "outputs": [],
   "source": [
    "print(3 + 7 == 10)\n",
    "print( 8 < 21 / 3)\n",
    "print(10 + 2 >= 10 / 2)"
   ]
  },
  {
   "cell_type": "markdown",
   "metadata": {},
   "source": [
    "<br>\n",
    "\n",
    "#### <ins>Boolean Operators</ins>\n",
    "\n",
    "| Operator | Description                                   | Example                      | Precedence |\n",
    "| :------: | :-------------------------------------------: | :--------------------------: | :--------: |\n",
    "| not      | Reverses True and False                       | not 4 < 3 returns True       | 1          |\n",
    "| and      | Returns True if both inputs are true          | 4 > 3 and 3 < 4 returns True | 2          |\n",
    "| or       | Returns True if at least one input is true    | 4 < 3 or 4 > 3 returns True  | 3          |\n",
    "\n",
    "Boolean operators are commonly (though not officially) referred to as \"logical\" operators."
   ]
  },
  {
   "cell_type": "code",
   "execution_count": null,
   "metadata": {},
   "outputs": [],
   "source": [
    "print(10 < 100 and 2 + 3 == 5)    # Python evaluates both comparison operations before 'and'.\n",
    "print(2 + 2 == 3 or 2 + 2 == 4)  # Python evaluates both comparison operations before 'or'."
   ]
  },
  {
   "cell_type": "code",
   "execution_count": null,
   "metadata": {},
   "outputs": [],
   "source": [
    "print(not 2 + 2 == 4)\n",
    "print(2 + 2 == 4 and not 4 - 2 == 2)     # Python evaluates the 'not' operation before 'and'.\n",
    "print(not 2 + 2 == 4 or 4 - 2 == 2)      # Python evaluates the 'not' operation before 'or'."
   ]
  },
  {
   "cell_type": "markdown",
   "metadata": {},
   "source": [
    "<br>\n",
    "\n",
    "#### <ins>Operator Precedence</ins>\n",
    "\n",
    "You can find the official table of Python operator precedence [here](https://docs.python.org/3/reference/expressions.html#operator-precedence).\n",
    "\n",
    "<br>\n",
    "\n",
    "---"
   ]
  },
  {
   "cell_type": "markdown",
   "metadata": {},
   "source": [
    "## **Assignment**\n",
    "\n",
    "#### <ins>The Assignment Operator</ins>\n",
    "\n",
    "| Operator | Description                              | \n",
    "| :------: | :--------------------------------------- | \n",
    "| =        | Binds names (\"identifiers\") and assignable objects |"
   ]
  },
  {
   "cell_type": "markdown",
   "metadata": {},
   "source": [
    "The `=` symbol defines variables by binding names ( or \"identifiers\") and assignable objects."
   ]
  },
  {
   "cell_type": "code",
   "execution_count": null,
   "metadata": {},
   "outputs": [],
   "source": [
    "x = 2          # Syntactically, this is called an assignment statement.\n",
    "print(x)"
   ]
  },
  {
   "cell_type": "markdown",
   "metadata": {},
   "source": [
    "Once defined, variables behave like the objects to which they refer."
   ]
  },
  {
   "cell_type": "code",
   "execution_count": null,
   "metadata": {},
   "outputs": [],
   "source": [
    "print(x + 2)"
   ]
  },
  {
   "cell_type": "markdown",
   "metadata": {},
   "source": [
    "If you follow the `=` symbol with an expression instead of a single value, the interpreter will first evaluate the expression and then bind the result to the identifier."
   ]
  },
  {
   "cell_type": "code",
   "execution_count": null,
   "metadata": {},
   "outputs": [],
   "source": [
    "y = 3 * 4\n",
    "print(y)"
   ]
  },
  {
   "cell_type": "markdown",
   "metadata": {},
   "source": [
    "You can override a previous assignment with a new assignment."
   ]
  },
  {
   "cell_type": "code",
   "execution_count": null,
   "metadata": {},
   "outputs": [],
   "source": [
    "y = 13\n",
    "print(y)"
   ]
  },
  {
   "cell_type": "markdown",
   "metadata": {},
   "source": [
    "Since the interpreter will evaluate an expression to the right of the `=` symbol before assigning the result to the identifier, you can change a variable value relative to itself by including the variable in the expression."
   ]
  },
  {
   "cell_type": "code",
   "execution_count": null,
   "metadata": {},
   "outputs": [],
   "source": [
    "y = y + 1\n",
    "print(y)"
   ]
  },
  {
   "cell_type": "markdown",
   "metadata": {},
   "source": [
    "<br>\n",
    "\n",
    "#### <ins>Augmented Assignment Operators</ins>\n",
    "\n",
    "| Operator | Description                              | \n",
    "| :------: | :--------------------------------------- | \n",
    "| +=       | Increases the value of the preceding variable by the value of the following expression |\n",
    "| -=       | Decreases the value of the preceding variable by the value of the following expression |\n",
    "| *=       | Multiplies the value of the preceding variable by the value of the following expression |\n",
    "| /=       | Divides the value of the preceding variable by the value of the following expression |\n",
    "| **=       | Raises the value of the preceding variable to the power of the value of the following expression |\n",
    "\n",
    "Augmented assignment operators provide shorthand (\"syntactic sugar\") for relative changes to the value of a variable."
   ]
  },
  {
   "cell_type": "code",
   "execution_count": null,
   "metadata": {},
   "outputs": [],
   "source": [
    "y += 1          # This statement is equivalent to y = y + 1\n",
    "print(y)"
   ]
  },
  {
   "cell_type": "markdown",
   "metadata": {},
   "source": [
    "<br>\n",
    "\n",
    "#### <ins>Multiple Assignment</ins>\n",
    "\n",
    "Although there is nothing wrong with writing multiple assignment statements to create multiple variables..."
   ]
  },
  {
   "cell_type": "code",
   "execution_count": null,
   "metadata": {},
   "outputs": [],
   "source": [
    "a = 10\n",
    "b = 20\n",
    "\n",
    "print(a)\n",
    "print(b)"
   ]
  },
  {
   "cell_type": "markdown",
   "metadata": {},
   "source": [
    "...Python also allows multiple assignments in a single line:"
   ]
  },
  {
   "cell_type": "code",
   "execution_count": null,
   "metadata": {},
   "outputs": [],
   "source": [
    "c, d = 30, 40\n",
    "\n",
    "print(c)\n",
    "print(d)"
   ]
  },
  {
   "cell_type": "markdown",
   "metadata": {},
   "source": [
    "If assignments involve complex expressions, you may still prefer to write them on separate lines for clarity."
   ]
  },
  {
   "cell_type": "markdown",
   "metadata": {},
   "source": [
    "<br>\n",
    "\n",
    "#### <ins>Naming Conventions</ins>\n",
    "\n",
    "Names should be descriptive.\n"
   ]
  },
  {
   "cell_type": "code",
   "execution_count": null,
   "metadata": {},
   "outputs": [],
   "source": [
    "# For example, if you were using Python to calculate a company's gross margin, instead of this...\n",
    "\n",
    "r = 1483\n",
    "c = 952\n",
    "gp = r - c\n",
    "gm = gp / r\n",
    "\n",
    "# ...it would normally be better to do this:\n",
    "\n",
    "revenue = 1483\n",
    "cost_of_goods_sold = 952\n",
    "gross_profit = revenue - cost_of_goods_sold\n",
    "gross_margin = gross_profit / revenue\n",
    "\n",
    "# If you and your coworkers will recognize \"cogs\" as an abbreviation for cost of goods sold, there\n",
    "# is nothing wrong with using that abbreviation as your variable name. As long as a name clearly\n",
    "# communicates the meaning of the variable, then it is a good name. "
   ]
  },
  {
   "cell_type": "markdown",
   "metadata": {},
   "source": [
    "Names must be one unbroken string of characters. Spaces in names will cause the interpreter to raise an error."
   ]
  },
  {
   "cell_type": "code",
   "execution_count": null,
   "metadata": {},
   "outputs": [],
   "source": [
    "gross margin = gross_profit / revenue"
   ]
  },
  {
   "cell_type": "markdown",
   "metadata": {},
   "source": [
    "For this reason, Python programmers use two main naming conventions to distinguish different words contained in the same name.\n",
    "\n",
    "Variables and functions are normally named in lower-case with words separated by underscores:"
   ]
  },
  {
   "cell_type": "code",
   "execution_count": null,
   "metadata": {},
   "outputs": [],
   "source": [
    "commission_percentage = 0.15            # This convention is sometimes called \"snake case\"."
   ]
  },
  {
   "cell_type": "markdown",
   "metadata": {},
   "source": [
    "Classes (which we will discuss later) are normally named with the first letter of each word capitalized:"
   ]
  },
  {
   "cell_type": "code",
   "execution_count": null,
   "metadata": {},
   "outputs": [],
   "source": [
    "class StockData:                        # This convention is sometimes called \"UpperCamelCase\".\n",
    "    def __init__(self, price, beta):\n",
    "        self.price = price\n",
    "        self.beta = beta\n",
    "\n"
   ]
  },
  {
   "cell_type": "markdown",
   "metadata": {},
   "source": [
    "<br>\n",
    "\n",
    "#### <ins>Keywords</ins>\n",
    "\n",
    "Keywords are reserved names (e.g. the `not`, `and`, and `or` operators) which cannot be re-assigned by users."
   ]
  },
  {
   "cell_type": "code",
   "execution_count": null,
   "metadata": {},
   "outputs": [],
   "source": [
    "and = 2 + 2"
   ]
  },
  {
   "cell_type": "markdown",
   "metadata": {},
   "source": [
    "Python includes 35 keywords which serve as operators, operands, and modifiers of the flow of execution. We will discuss some (but not all) of these keywords later in this class. You can find the full list [here](https://docs.python.org/3/reference/lexical_analysis.html#keywords).\n",
    "\n",
    "<br>"
   ]
  },
  {
   "cell_type": "markdown",
   "metadata": {},
   "source": [
    "---\n",
    "\n",
    "## **Types**\n",
    "\n",
    "#### <ins>What Is a Type?</ins>\n",
    "\n",
    "In Python, operands are called objects, and objects are classified by type.\n",
    "\n",
    "An object's type determines the operations for which it can serve as an operand.\n",
    "\n",
    "<br>"
   ]
  },
  {
   "cell_type": "markdown",
   "metadata": {},
   "source": [
    "#### <ins>Numeric Types</ins>\n",
    "\n",
    "In this class, you have already seen three types of numeric objects: integers, decimal numbers (called \"floats\" in Python), and Booleans."
   ]
  },
  {
   "cell_type": "code",
   "execution_count": 13,
   "metadata": {},
   "outputs": [
    {
     "data": {
      "text/plain": [
       "int"
      ]
     },
     "execution_count": 13,
     "metadata": {},
     "output_type": "execute_result"
    }
   ],
   "source": [
    "# The type function will return the type of any object.\n",
    "# If you pass an expression to the type function, the type function will return the type of its result.\n",
    "\n",
    "type(2)"
   ]
  },
  {
   "cell_type": "markdown",
   "metadata": {},
   "source": [
    "The Boolean type is a sub-type of integer. `True` is equivalent to `1` and `False` is equivalent to `0`."
   ]
  },
  {
   "cell_type": "code",
   "execution_count": 15,
   "metadata": {},
   "outputs": [
    {
     "name": "stdout",
     "output_type": "stream",
     "text": [
      "True\n",
      "True\n",
      "4\n"
     ]
    }
   ],
   "source": [
    "print(True == 1)\n",
    "print(False == 0)\n",
    "print(True + 3)"
   ]
  },
  {
   "cell_type": "markdown",
   "metadata": {},
   "source": [
    "You can convert compatible objects of other types into integers, floats, and Booleans using the `int`, `float`, and `bool` functions."
   ]
  },
  {
   "cell_type": "code",
   "execution_count": 18,
   "metadata": {},
   "outputs": [
    {
     "name": "stdout",
     "output_type": "stream",
     "text": [
      "1\n",
      "1.0\n",
      "False\n"
     ]
    }
   ],
   "source": [
    "print(int(1.9))            # Note that the int function truncates instead of rounding.\n",
    "print(float(True))\n",
    "print(bool(0))"
   ]
  },
  {
   "cell_type": "markdown",
   "metadata": {},
   "source": [
    "#### <ins>Strings</ins>\n",
    "\n",
    "In Python, text objects are classified as strings.\n",
    "\n",
    "Strings can be delimited by either single or double quotes."
   ]
  },
  {
   "cell_type": "code",
   "execution_count": 24,
   "metadata": {},
   "outputs": [
    {
     "name": "stdout",
     "output_type": "stream",
     "text": [
      "<class 'str'>\n",
      "<class 'str'>\n"
     ]
    }
   ],
   "source": [
    "print(type('This is a string.'))\n",
    "print(type(\"This is also a string.\"))"
   ]
  },
  {
   "cell_type": "markdown",
   "metadata": {},
   "source": [
    "A string must end with the same notation with which it was initiated.\n",
    "\n",
    "This feature provides one way to include quotation marks inside strings."
   ]
  },
  {
   "cell_type": "code",
   "execution_count": 26,
   "metadata": {},
   "outputs": [
    {
     "name": "stdout",
     "output_type": "stream",
     "text": [
      "Walmart's current stock price is $68.13\n",
      "CEO Doug McMillon said, \"As we invest in technology, we want our people to go with us.\"\n"
     ]
    }
   ],
   "source": [
    "print(\"Walmart's current stock price is $68.13\")\n",
    "print('CEO Doug McMillon said, \"As we invest in technology, we want our people to go with us.\"')"
   ]
  },
  {
   "cell_type": "markdown",
   "metadata": {},
   "source": [
    "When given strings as operands, the `+` symbol initiates concatenation instead of addition. Similarly, the `*` symbol initiates repetition."
   ]
  },
  {
   "cell_type": "markdown",
   "metadata": {},
   "source": [
    "#### <ins>Containers</ins>\n",
    "\n",
    "Lists, dictionaries, sets, tuples\n",
    "\n",
    "#### <ins>Attributes and Methods</ins>\n",
    "\n",
    "Discuss"
   ]
  },
  {
   "cell_type": "markdown",
   "metadata": {},
   "source": [
    "---\n",
    "\n",
    "## **Functions**\n",
    "\n",
    "#### <ins>What Is a Function?</ins>\n",
    "\n",
    "A function is a named operation which can also serve as an operand.\n",
    "\n",
    "Functions are executed when they are called. A function call is a function name followed by a pair of parentheses.\n",
    "\n",
    "If a function is designed to receive inputs, those inputs (called \"arguments\") can be passed to the function by including them between the parentheses in a function call."
   ]
  },
  {
   "cell_type": "code",
   "execution_count": null,
   "metadata": {},
   "outputs": [],
   "source": [
    "# The print function produces a text output.\n",
    "\n",
    "print('My name is Zach.')       # Syntactically, this is a function call.\n",
    "# |                  |\n",
    "# |                  |\n",
    "# Function name      |\n",
    "#                    |\n",
    "#             Argument"
   ]
  },
  {
   "cell_type": "markdown",
   "metadata": {},
   "source": [
    "Like Excel, Python includes a collection of functions which are always available. You can find the official list [here](https://docs.python.org/3/library/functions.html)."
   ]
  },
  {
   "cell_type": "markdown",
   "metadata": {},
   "source": [
    "<br>\n",
    "\n",
    "#### <ins>Arguments</ins>\n",
    "\n",
    "You can pass expressions to functions as arguments. The interpreter will first evaluate such an expression before passing its result to the function."
   ]
  },
  {
   "cell_type": "code",
   "execution_count": null,
   "metadata": {},
   "outputs": [],
   "source": [
    "print(4 / 7)"
   ]
  },
  {
   "cell_type": "markdown",
   "metadata": {},
   "source": [
    "Different functions are designed to receive different numbers of arguments.\n",
    "\n",
    "Some functions can operate without any arguments."
   ]
  },
  {
   "cell_type": "code",
   "execution_count": null,
   "metadata": {},
   "outputs": [],
   "source": [
    "print('Line One')\n",
    "# print()\n",
    "print('Line Two')"
   ]
  },
  {
   "cell_type": "markdown",
   "metadata": {},
   "source": [
    "Others cannot."
   ]
  },
  {
   "cell_type": "code",
   "execution_count": null,
   "metadata": {},
   "outputs": [],
   "source": [
    "# The round function requires at least one argument.\n",
    "\n",
    "round(4/7)"
   ]
  },
  {
   "cell_type": "markdown",
   "metadata": {},
   "source": [
    "Some functions allow you to modify their operation by passing optional arguments in addition to required arguments."
   ]
  },
  {
   "cell_type": "code",
   "execution_count": null,
   "metadata": {},
   "outputs": [],
   "source": [
    "# Different arguments must be separated by a comma.\n",
    "# The second argument, which is optional, modifies the precision of the round function.\n",
    "\n",
    "round(4 / 7, 2)"
   ]
  },
  {
   "cell_type": "markdown",
   "metadata": {},
   "source": [
    "Functions identify arguments by their position, by their name, or both.\n",
    "\n",
    "Arguments which functions can identify by name are called *keyword arguments* (sometimes abbreviated as *kwargs*)."
   ]
  },
  {
   "cell_type": "code",
   "execution_count": null,
   "metadata": {},
   "outputs": [],
   "source": [
    "# The round function is designed to identify these two arguments by their position or by their name.\n",
    "# The result will be the same regardless of the position of the arguments.\n",
    "\n",
    "round(number = 4 / 7, ndigits = 2)"
   ]
  },
  {
   "cell_type": "code",
   "execution_count": null,
   "metadata": {},
   "outputs": [],
   "source": [
    "# The print function will only recognize an \"end\" argument that is explicitly named.\n",
    "\n",
    "print('It worked', end = '!')"
   ]
  },
  {
   "cell_type": "markdown",
   "metadata": {},
   "source": [
    "<br>\n",
    "\n",
    "#### <ins>Documentation</ins>"
   ]
  },
  {
   "cell_type": "markdown",
   "metadata": {},
   "source": [
    "If you are not familiar with a function, you can learn about it by displaying its documentation with the help function."
   ]
  },
  {
   "cell_type": "code",
   "execution_count": null,
   "metadata": {},
   "outputs": [],
   "source": [
    "help(round)"
   ]
  },
  {
   "cell_type": "code",
   "execution_count": null,
   "metadata": {},
   "outputs": [],
   "source": [
    "# We learn from the documentation that the round function can receive a negative ndigits argument.\n",
    "\n",
    "round(12345, -3)"
   ]
  },
  {
   "cell_type": "markdown",
   "metadata": {},
   "source": [
    "You can find more comprehensive function documentation in the [Library Reference](https://docs.python.org/3/library/functions.html#round)."
   ]
  },
  {
   "cell_type": "markdown",
   "metadata": {},
   "source": [
    "<br>\n",
    "\n",
    "#### <ins>Function Calls and Operators</ins>\n",
    "\n",
    "Apart from its arguments, a function call is an operator. The arguments in a function call are operands."
   ]
  },
  {
   "cell_type": "code",
   "execution_count": null,
   "metadata": {},
   "outputs": [],
   "source": [
    "# When called, this custom function is identical to the multiplication operator except for its syntax.\n",
    "\n",
    "def multiply(x, y):\n",
    "    result = 0\n",
    "    for n in range(y):\n",
    "        result += x\n",
    "    return result\n",
    "\n",
    "multiply(3, 5)"
   ]
  },
  {
   "cell_type": "code",
   "execution_count": null,
   "metadata": {},
   "outputs": [],
   "source": [
    "3 * 5"
   ]
  }
 ],
 "metadata": {
  "kernelspec": {
   "display_name": "Python 3",
   "language": "python",
   "name": "python3"
  },
  "language_info": {
   "codemirror_mode": {
    "name": "ipython",
    "version": 3
   },
   "file_extension": ".py",
   "mimetype": "text/x-python",
   "name": "python",
   "nbconvert_exporter": "python",
   "pygments_lexer": "ipython3",
   "version": "3.10.13"
  }
 },
 "nbformat": 4,
 "nbformat_minor": 2
}
